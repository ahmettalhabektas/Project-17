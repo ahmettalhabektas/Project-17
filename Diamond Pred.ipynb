{
 "cells": [
  {
   "cell_type": "markdown",
   "id": "02e30fed",
   "metadata": {
    "execution": {
     "iopub.execute_input": "2022-08-03T17:29:43.795192Z",
     "iopub.status.busy": "2022-08-03T17:29:43.794707Z",
     "iopub.status.idle": "2022-08-03T17:29:45.053513Z",
     "shell.execute_reply": "2022-08-03T17:29:45.052109Z",
     "shell.execute_reply.started": "2022-08-03T17:29:43.795088Z"
    },
    "papermill": {
     "duration": 0.015504,
     "end_time": "2022-08-17T20:11:01.639794",
     "exception": false,
     "start_time": "2022-08-17T20:11:01.624290",
     "status": "completed"
    },
    "tags": []
   },
   "source": [
    "# Diamond Price Predict"
   ]
  },
  {
   "cell_type": "markdown",
   "id": "bede2319",
   "metadata": {
    "papermill": {
     "duration": 0.013559,
     "end_time": "2022-08-17T20:11:01.723750",
     "exception": false,
     "start_time": "2022-08-17T20:11:01.710191",
     "status": "completed"
    },
    "tags": []
   },
   "source": [
    "### - Importing Libraries and Loading dataset"
   ]
  },
  {
   "cell_type": "code",
   "execution_count": 1,
   "id": "795b056c",
   "metadata": {
    "execution": {
     "iopub.execute_input": "2022-08-17T20:11:01.753543Z",
     "iopub.status.busy": "2022-08-17T20:11:01.752791Z",
     "iopub.status.idle": "2022-08-17T20:11:02.905230Z",
     "shell.execute_reply": "2022-08-17T20:11:02.903943Z"
    },
    "papermill": {
     "duration": 1.170549,
     "end_time": "2022-08-17T20:11:02.908054",
     "exception": false,
     "start_time": "2022-08-17T20:11:01.737505",
     "status": "completed"
    },
    "tags": []
   },
   "outputs": [],
   "source": [
    "import numpy as np\n",
    "import pandas as pd\n",
    "import matplotlib.pyplot as plt\n",
    "import seaborn as sns"
   ]
  },
  {
   "cell_type": "code",
   "execution_count": 2,
   "id": "5d452243",
   "metadata": {
    "execution": {
     "iopub.execute_input": "2022-08-17T20:11:02.938100Z",
     "iopub.status.busy": "2022-08-17T20:11:02.937712Z",
     "iopub.status.idle": "2022-08-17T20:11:03.069012Z",
     "shell.execute_reply": "2022-08-17T20:11:03.068047Z"
    },
    "papermill": {
     "duration": 0.149317,
     "end_time": "2022-08-17T20:11:03.071510",
     "exception": false,
     "start_time": "2022-08-17T20:11:02.922193",
     "status": "completed"
    },
    "tags": []
   },
   "outputs": [],
   "source": [
    "df = pd.read_csv(\"../input/diamonds-prices/Diamonds Prices2022.csv\",index_col = 0)\n"
   ]
  },
  {
   "cell_type": "code",
   "execution_count": 3,
   "id": "9151a11b",
   "metadata": {
    "execution": {
     "iopub.execute_input": "2022-08-17T20:11:03.101325Z",
     "iopub.status.busy": "2022-08-17T20:11:03.100621Z",
     "iopub.status.idle": "2022-08-17T20:11:03.131493Z",
     "shell.execute_reply": "2022-08-17T20:11:03.130251Z"
    },
    "papermill": {
     "duration": 0.048816,
     "end_time": "2022-08-17T20:11:03.134192",
     "exception": false,
     "start_time": "2022-08-17T20:11:03.085376",
     "status": "completed"
    },
    "tags": []
   },
   "outputs": [
    {
     "data": {
      "text/html": [
       "<div>\n",
       "<style scoped>\n",
       "    .dataframe tbody tr th:only-of-type {\n",
       "        vertical-align: middle;\n",
       "    }\n",
       "\n",
       "    .dataframe tbody tr th {\n",
       "        vertical-align: top;\n",
       "    }\n",
       "\n",
       "    .dataframe thead th {\n",
       "        text-align: right;\n",
       "    }\n",
       "</style>\n",
       "<table border=\"1\" class=\"dataframe\">\n",
       "  <thead>\n",
       "    <tr style=\"text-align: right;\">\n",
       "      <th></th>\n",
       "      <th>carat</th>\n",
       "      <th>cut</th>\n",
       "      <th>color</th>\n",
       "      <th>clarity</th>\n",
       "      <th>depth</th>\n",
       "      <th>table</th>\n",
       "      <th>price</th>\n",
       "      <th>x</th>\n",
       "      <th>y</th>\n",
       "      <th>z</th>\n",
       "    </tr>\n",
       "  </thead>\n",
       "  <tbody>\n",
       "    <tr>\n",
       "      <th>1</th>\n",
       "      <td>0.23</td>\n",
       "      <td>Ideal</td>\n",
       "      <td>E</td>\n",
       "      <td>SI2</td>\n",
       "      <td>61.5</td>\n",
       "      <td>55.0</td>\n",
       "      <td>326</td>\n",
       "      <td>3.95</td>\n",
       "      <td>3.98</td>\n",
       "      <td>2.43</td>\n",
       "    </tr>\n",
       "    <tr>\n",
       "      <th>2</th>\n",
       "      <td>0.21</td>\n",
       "      <td>Premium</td>\n",
       "      <td>E</td>\n",
       "      <td>SI1</td>\n",
       "      <td>59.8</td>\n",
       "      <td>61.0</td>\n",
       "      <td>326</td>\n",
       "      <td>3.89</td>\n",
       "      <td>3.84</td>\n",
       "      <td>2.31</td>\n",
       "    </tr>\n",
       "    <tr>\n",
       "      <th>3</th>\n",
       "      <td>0.23</td>\n",
       "      <td>Good</td>\n",
       "      <td>E</td>\n",
       "      <td>VS1</td>\n",
       "      <td>56.9</td>\n",
       "      <td>65.0</td>\n",
       "      <td>327</td>\n",
       "      <td>4.05</td>\n",
       "      <td>4.07</td>\n",
       "      <td>2.31</td>\n",
       "    </tr>\n",
       "    <tr>\n",
       "      <th>4</th>\n",
       "      <td>0.29</td>\n",
       "      <td>Premium</td>\n",
       "      <td>I</td>\n",
       "      <td>VS2</td>\n",
       "      <td>62.4</td>\n",
       "      <td>58.0</td>\n",
       "      <td>334</td>\n",
       "      <td>4.20</td>\n",
       "      <td>4.23</td>\n",
       "      <td>2.63</td>\n",
       "    </tr>\n",
       "    <tr>\n",
       "      <th>5</th>\n",
       "      <td>0.31</td>\n",
       "      <td>Good</td>\n",
       "      <td>J</td>\n",
       "      <td>SI2</td>\n",
       "      <td>63.3</td>\n",
       "      <td>58.0</td>\n",
       "      <td>335</td>\n",
       "      <td>4.34</td>\n",
       "      <td>4.35</td>\n",
       "      <td>2.75</td>\n",
       "    </tr>\n",
       "    <tr>\n",
       "      <th>...</th>\n",
       "      <td>...</td>\n",
       "      <td>...</td>\n",
       "      <td>...</td>\n",
       "      <td>...</td>\n",
       "      <td>...</td>\n",
       "      <td>...</td>\n",
       "      <td>...</td>\n",
       "      <td>...</td>\n",
       "      <td>...</td>\n",
       "      <td>...</td>\n",
       "    </tr>\n",
       "    <tr>\n",
       "      <th>53939</th>\n",
       "      <td>0.86</td>\n",
       "      <td>Premium</td>\n",
       "      <td>H</td>\n",
       "      <td>SI2</td>\n",
       "      <td>61.0</td>\n",
       "      <td>58.0</td>\n",
       "      <td>2757</td>\n",
       "      <td>6.15</td>\n",
       "      <td>6.12</td>\n",
       "      <td>3.74</td>\n",
       "    </tr>\n",
       "    <tr>\n",
       "      <th>53940</th>\n",
       "      <td>0.75</td>\n",
       "      <td>Ideal</td>\n",
       "      <td>D</td>\n",
       "      <td>SI2</td>\n",
       "      <td>62.2</td>\n",
       "      <td>55.0</td>\n",
       "      <td>2757</td>\n",
       "      <td>5.83</td>\n",
       "      <td>5.87</td>\n",
       "      <td>3.64</td>\n",
       "    </tr>\n",
       "    <tr>\n",
       "      <th>53941</th>\n",
       "      <td>0.71</td>\n",
       "      <td>Premium</td>\n",
       "      <td>E</td>\n",
       "      <td>SI1</td>\n",
       "      <td>60.5</td>\n",
       "      <td>55.0</td>\n",
       "      <td>2756</td>\n",
       "      <td>5.79</td>\n",
       "      <td>5.74</td>\n",
       "      <td>3.49</td>\n",
       "    </tr>\n",
       "    <tr>\n",
       "      <th>53942</th>\n",
       "      <td>0.71</td>\n",
       "      <td>Premium</td>\n",
       "      <td>F</td>\n",
       "      <td>SI1</td>\n",
       "      <td>59.8</td>\n",
       "      <td>62.0</td>\n",
       "      <td>2756</td>\n",
       "      <td>5.74</td>\n",
       "      <td>5.73</td>\n",
       "      <td>3.43</td>\n",
       "    </tr>\n",
       "    <tr>\n",
       "      <th>53943</th>\n",
       "      <td>0.70</td>\n",
       "      <td>Very Good</td>\n",
       "      <td>E</td>\n",
       "      <td>VS2</td>\n",
       "      <td>60.5</td>\n",
       "      <td>59.0</td>\n",
       "      <td>2757</td>\n",
       "      <td>5.71</td>\n",
       "      <td>5.76</td>\n",
       "      <td>3.47</td>\n",
       "    </tr>\n",
       "  </tbody>\n",
       "</table>\n",
       "<p>53943 rows × 10 columns</p>\n",
       "</div>"
      ],
      "text/plain": [
       "       carat        cut color clarity  depth  table  price     x     y     z\n",
       "1       0.23      Ideal     E     SI2   61.5   55.0    326  3.95  3.98  2.43\n",
       "2       0.21    Premium     E     SI1   59.8   61.0    326  3.89  3.84  2.31\n",
       "3       0.23       Good     E     VS1   56.9   65.0    327  4.05  4.07  2.31\n",
       "4       0.29    Premium     I     VS2   62.4   58.0    334  4.20  4.23  2.63\n",
       "5       0.31       Good     J     SI2   63.3   58.0    335  4.34  4.35  2.75\n",
       "...      ...        ...   ...     ...    ...    ...    ...   ...   ...   ...\n",
       "53939   0.86    Premium     H     SI2   61.0   58.0   2757  6.15  6.12  3.74\n",
       "53940   0.75      Ideal     D     SI2   62.2   55.0   2757  5.83  5.87  3.64\n",
       "53941   0.71    Premium     E     SI1   60.5   55.0   2756  5.79  5.74  3.49\n",
       "53942   0.71    Premium     F     SI1   59.8   62.0   2756  5.74  5.73  3.43\n",
       "53943   0.70  Very Good     E     VS2   60.5   59.0   2757  5.71  5.76  3.47\n",
       "\n",
       "[53943 rows x 10 columns]"
      ]
     },
     "execution_count": 3,
     "metadata": {},
     "output_type": "execute_result"
    }
   ],
   "source": [
    "df"
   ]
  },
  {
   "cell_type": "code",
   "execution_count": 4,
   "id": "da9d8e0c",
   "metadata": {
    "execution": {
     "iopub.execute_input": "2022-08-17T20:11:03.164851Z",
     "iopub.status.busy": "2022-08-17T20:11:03.164387Z",
     "iopub.status.idle": "2022-08-17T20:11:03.181179Z",
     "shell.execute_reply": "2022-08-17T20:11:03.180256Z"
    },
    "papermill": {
     "duration": 0.034702,
     "end_time": "2022-08-17T20:11:03.183407",
     "exception": false,
     "start_time": "2022-08-17T20:11:03.148705",
     "status": "completed"
    },
    "tags": []
   },
   "outputs": [
    {
     "data": {
      "text/plain": [
       "carat      0\n",
       "cut        0\n",
       "color      0\n",
       "clarity    0\n",
       "depth      0\n",
       "table      0\n",
       "price      0\n",
       "x          0\n",
       "y          0\n",
       "z          0\n",
       "dtype: int64"
      ]
     },
     "execution_count": 4,
     "metadata": {},
     "output_type": "execute_result"
    }
   ],
   "source": [
    "df.isnull().sum()"
   ]
  },
  {
   "cell_type": "code",
   "execution_count": 5,
   "id": "502e3ed0",
   "metadata": {
    "execution": {
     "iopub.execute_input": "2022-08-17T20:11:03.215464Z",
     "iopub.status.busy": "2022-08-17T20:11:03.214740Z",
     "iopub.status.idle": "2022-08-17T20:11:03.225442Z",
     "shell.execute_reply": "2022-08-17T20:11:03.224469Z"
    },
    "papermill": {
     "duration": 0.029953,
     "end_time": "2022-08-17T20:11:03.227946",
     "exception": false,
     "start_time": "2022-08-17T20:11:03.197993",
     "status": "completed"
    },
    "tags": []
   },
   "outputs": [],
   "source": [
    "cat_col = df.select_dtypes(exclude=np.number)\n",
    "num_col = df.select_dtypes(include=np.number)"
   ]
  },
  {
   "cell_type": "markdown",
   "id": "74d1c11d",
   "metadata": {
    "papermill": {
     "duration": 0.013981,
     "end_time": "2022-08-17T20:11:03.256358",
     "exception": false,
     "start_time": "2022-08-17T20:11:03.242377",
     "status": "completed"
    },
    "tags": []
   },
   "source": [
    "## Outliers And Missing Values"
   ]
  },
  {
   "cell_type": "code",
   "execution_count": 6,
   "id": "ccc559c0",
   "metadata": {
    "execution": {
     "iopub.execute_input": "2022-08-17T20:11:03.286747Z",
     "iopub.status.busy": "2022-08-17T20:11:03.286316Z",
     "iopub.status.idle": "2022-08-17T20:11:03.857371Z",
     "shell.execute_reply": "2022-08-17T20:11:03.856281Z"
    },
    "papermill": {
     "duration": 0.589188,
     "end_time": "2022-08-17T20:11:03.859886",
     "exception": false,
     "start_time": "2022-08-17T20:11:03.270698",
     "status": "completed"
    },
    "scrolled": true,
    "tags": []
   },
   "outputs": [
    {
     "data": {
      "image/png": "[encoded data removed]",
      "text/plain": [
       "<Figure size 1080x720 with 3 Axes>"
      ]
     },
     "metadata": {
      "needs_background": "light"
     },
     "output_type": "display_data"
    }
   ],
   "source": [
    "plt.figure(figsize=(15,10))\n",
    "\n",
    "for index,col in enumerate(cat_col):\n",
    "    plt.subplot(3,1,index+1)\n",
    "    sns.countplot(data=df,x=col,palette=\"magma\")\n",
    "plt.subplots_adjust(wspace=0.5,hspace=0.5)\n",
    "    "
   ]
  },
  {
   "cell_type": "markdown",
   "id": "9f5aeefc",
   "metadata": {
    "papermill": {
     "duration": 0.014466,
     "end_time": "2022-08-17T20:11:03.889422",
     "exception": false,
     "start_time": "2022-08-17T20:11:03.874956",
     "status": "completed"
    },
    "tags": []
   },
   "source": [
    "**Kategorik veriler arıyoruz. Bir değer baskın olabilirse, sütunlarını bırakabiliriz çünkü o sütun yararlı olmayacaktır**"
   ]
  },
  {
   "cell_type": "code",
   "execution_count": 7,
   "id": "94163df3",
   "metadata": {
    "execution": {
     "iopub.execute_input": "2022-08-17T20:11:03.921331Z",
     "iopub.status.busy": "2022-08-17T20:11:03.920336Z",
     "iopub.status.idle": "2022-08-17T20:11:03.941918Z",
     "shell.execute_reply": "2022-08-17T20:11:03.940729Z"
    },
    "papermill": {
     "duration": 0.040125,
     "end_time": "2022-08-17T20:11:03.944334",
     "exception": false,
     "start_time": "2022-08-17T20:11:03.904209",
     "status": "completed"
    },
    "tags": []
   },
   "outputs": [
    {
     "data": {
      "text/html": [
       "<div>\n",
       "<style scoped>\n",
       "    .dataframe tbody tr th:only-of-type {\n",
       "        vertical-align: middle;\n",
       "    }\n",
       "\n",
       "    .dataframe tbody tr th {\n",
       "        vertical-align: top;\n",
       "    }\n",
       "\n",
       "    .dataframe thead th {\n",
       "        text-align: right;\n",
       "    }\n",
       "</style>\n",
       "<table border=\"1\" class=\"dataframe\">\n",
       "  <thead>\n",
       "    <tr style=\"text-align: right;\">\n",
       "      <th></th>\n",
       "      <th>carat</th>\n",
       "      <th>depth</th>\n",
       "      <th>table</th>\n",
       "      <th>price</th>\n",
       "      <th>x</th>\n",
       "      <th>y</th>\n",
       "      <th>z</th>\n",
       "    </tr>\n",
       "  </thead>\n",
       "  <tbody>\n",
       "    <tr>\n",
       "      <th>1</th>\n",
       "      <td>0.23</td>\n",
       "      <td>61.5</td>\n",
       "      <td>55.0</td>\n",
       "      <td>326</td>\n",
       "      <td>3.95</td>\n",
       "      <td>3.98</td>\n",
       "      <td>2.43</td>\n",
       "    </tr>\n",
       "    <tr>\n",
       "      <th>2</th>\n",
       "      <td>0.21</td>\n",
       "      <td>59.8</td>\n",
       "      <td>61.0</td>\n",
       "      <td>326</td>\n",
       "      <td>3.89</td>\n",
       "      <td>3.84</td>\n",
       "      <td>2.31</td>\n",
       "    </tr>\n",
       "    <tr>\n",
       "      <th>3</th>\n",
       "      <td>0.23</td>\n",
       "      <td>56.9</td>\n",
       "      <td>65.0</td>\n",
       "      <td>327</td>\n",
       "      <td>4.05</td>\n",
       "      <td>4.07</td>\n",
       "      <td>2.31</td>\n",
       "    </tr>\n",
       "    <tr>\n",
       "      <th>4</th>\n",
       "      <td>0.29</td>\n",
       "      <td>62.4</td>\n",
       "      <td>58.0</td>\n",
       "      <td>334</td>\n",
       "      <td>4.20</td>\n",
       "      <td>4.23</td>\n",
       "      <td>2.63</td>\n",
       "    </tr>\n",
       "    <tr>\n",
       "      <th>5</th>\n",
       "      <td>0.31</td>\n",
       "      <td>63.3</td>\n",
       "      <td>58.0</td>\n",
       "      <td>335</td>\n",
       "      <td>4.34</td>\n",
       "      <td>4.35</td>\n",
       "      <td>2.75</td>\n",
       "    </tr>\n",
       "    <tr>\n",
       "      <th>...</th>\n",
       "      <td>...</td>\n",
       "      <td>...</td>\n",
       "      <td>...</td>\n",
       "      <td>...</td>\n",
       "      <td>...</td>\n",
       "      <td>...</td>\n",
       "      <td>...</td>\n",
       "    </tr>\n",
       "    <tr>\n",
       "      <th>53939</th>\n",
       "      <td>0.86</td>\n",
       "      <td>61.0</td>\n",
       "      <td>58.0</td>\n",
       "      <td>2757</td>\n",
       "      <td>6.15</td>\n",
       "      <td>6.12</td>\n",
       "      <td>3.74</td>\n",
       "    </tr>\n",
       "    <tr>\n",
       "      <th>53940</th>\n",
       "      <td>0.75</td>\n",
       "      <td>62.2</td>\n",
       "      <td>55.0</td>\n",
       "      <td>2757</td>\n",
       "      <td>5.83</td>\n",
       "      <td>5.87</td>\n",
       "      <td>3.64</td>\n",
       "    </tr>\n",
       "    <tr>\n",
       "      <th>53941</th>\n",
       "      <td>0.71</td>\n",
       "      <td>60.5</td>\n",
       "      <td>55.0</td>\n",
       "      <td>2756</td>\n",
       "      <td>5.79</td>\n",
       "      <td>5.74</td>\n",
       "      <td>3.49</td>\n",
       "    </tr>\n",
       "    <tr>\n",
       "      <th>53942</th>\n",
       "      <td>0.71</td>\n",
       "      <td>59.8</td>\n",
       "      <td>62.0</td>\n",
       "      <td>2756</td>\n",
       "      <td>5.74</td>\n",
       "      <td>5.73</td>\n",
       "      <td>3.43</td>\n",
       "    </tr>\n",
       "    <tr>\n",
       "      <th>53943</th>\n",
       "      <td>0.70</td>\n",
       "      <td>60.5</td>\n",
       "      <td>59.0</td>\n",
       "      <td>2757</td>\n",
       "      <td>5.71</td>\n",
       "      <td>5.76</td>\n",
       "      <td>3.47</td>\n",
       "    </tr>\n",
       "  </tbody>\n",
       "</table>\n",
       "<p>53943 rows × 7 columns</p>\n",
       "</div>"
      ],
      "text/plain": [
       "       carat  depth  table  price     x     y     z\n",
       "1       0.23   61.5   55.0    326  3.95  3.98  2.43\n",
       "2       0.21   59.8   61.0    326  3.89  3.84  2.31\n",
       "3       0.23   56.9   65.0    327  4.05  4.07  2.31\n",
       "4       0.29   62.4   58.0    334  4.20  4.23  2.63\n",
       "5       0.31   63.3   58.0    335  4.34  4.35  2.75\n",
       "...      ...    ...    ...    ...   ...   ...   ...\n",
       "53939   0.86   61.0   58.0   2757  6.15  6.12  3.74\n",
       "53940   0.75   62.2   55.0   2757  5.83  5.87  3.64\n",
       "53941   0.71   60.5   55.0   2756  5.79  5.74  3.49\n",
       "53942   0.71   59.8   62.0   2756  5.74  5.73  3.43\n",
       "53943   0.70   60.5   59.0   2757  5.71  5.76  3.47\n",
       "\n",
       "[53943 rows x 7 columns]"
      ]
     },
     "execution_count": 7,
     "metadata": {},
     "output_type": "execute_result"
    }
   ],
   "source": [
    "num_col"
   ]
  },
  {
   "cell_type": "code",
   "execution_count": 8,
   "id": "fcbca903",
   "metadata": {
    "execution": {
     "iopub.execute_input": "2022-08-17T20:11:03.976316Z",
     "iopub.status.busy": "2022-08-17T20:11:03.975562Z",
     "iopub.status.idle": "2022-08-17T20:11:32.950875Z",
     "shell.execute_reply": "2022-08-17T20:11:32.949676Z"
    },
    "papermill": {
     "duration": 28.996682,
     "end_time": "2022-08-17T20:11:32.955947",
     "exception": false,
     "start_time": "2022-08-17T20:11:03.959265",
     "status": "completed"
    },
    "tags": []
   },
   "outputs": [
    {
     "data": {
      "image/png": "[encoded data removed]",
      "text/plain": [
       "<Figure size 1440x1080 with 7 Axes>"
      ]
     },
     "metadata": {
      "needs_background": "light"
     },
     "output_type": "display_data"
    }
   ],
   "source": [
    "plt.figure(figsize=(20,15))\n",
    "\n",
    "for index,col in enumerate(num_col):\n",
    "    plt.subplot(4,3,index+1)\n",
    "    sns.regplot(data=df,x=col,y=df.price)"
   ]
  },
  {
   "cell_type": "markdown",
   "id": "fb65b6d4",
   "metadata": {
    "papermill": {
     "duration": 0.016834,
     "end_time": "2022-08-17T20:11:32.997607",
     "exception": false,
     "start_time": "2022-08-17T20:11:32.980773",
     "status": "completed"
    },
    "tags": []
   },
   "source": [
    "**Her değer ve fiyat arasında doğrusal regresyon ilişkisi aradık**"
   ]
  },
  {
   "cell_type": "markdown",
   "id": "4255f57b",
   "metadata": {
    "papermill": {
     "duration": 0.017678,
     "end_time": "2022-08-17T20:11:33.035312",
     "exception": false,
     "start_time": "2022-08-17T20:11:33.017634",
     "status": "completed"
    },
    "tags": []
   },
   "source": [
    "# Exploratory Data Analysis"
   ]
  },
  {
   "cell_type": "code",
   "execution_count": 9,
   "id": "02f4a6fc",
   "metadata": {
    "execution": {
     "iopub.execute_input": "2022-08-17T20:11:33.073293Z",
     "iopub.status.busy": "2022-08-17T20:11:33.072912Z",
     "iopub.status.idle": "2022-08-17T20:11:33.081028Z",
     "shell.execute_reply": "2022-08-17T20:11:33.079972Z"
    },
    "papermill": {
     "duration": 0.02913,
     "end_time": "2022-08-17T20:11:33.083441",
     "exception": false,
     "start_time": "2022-08-17T20:11:33.054311",
     "status": "completed"
    },
    "tags": []
   },
   "outputs": [],
   "source": [
    "df2 = df.copy()"
   ]
  },
  {
   "cell_type": "code",
   "execution_count": 10,
   "id": "313869e7",
   "metadata": {
    "execution": {
     "iopub.execute_input": "2022-08-17T20:11:33.119532Z",
     "iopub.status.busy": "2022-08-17T20:11:33.119099Z",
     "iopub.status.idle": "2022-08-17T20:11:33.133221Z",
     "shell.execute_reply": "2022-08-17T20:11:33.132247Z"
    },
    "papermill": {
     "duration": 0.034892,
     "end_time": "2022-08-17T20:11:33.135718",
     "exception": false,
     "start_time": "2022-08-17T20:11:33.100826",
     "status": "completed"
    },
    "tags": []
   },
   "outputs": [],
   "source": [
    "df2 = df2[df2.z < 30]"
   ]
  },
  {
   "cell_type": "code",
   "execution_count": 11,
   "id": "36d162b1",
   "metadata": {
    "execution": {
     "iopub.execute_input": "2022-08-17T20:11:33.171743Z",
     "iopub.status.busy": "2022-08-17T20:11:33.170919Z",
     "iopub.status.idle": "2022-08-17T20:11:33.187699Z",
     "shell.execute_reply": "2022-08-17T20:11:33.186746Z"
    },
    "papermill": {
     "duration": 0.037751,
     "end_time": "2022-08-17T20:11:33.190271",
     "exception": false,
     "start_time": "2022-08-17T20:11:33.152520",
     "status": "completed"
    },
    "tags": []
   },
   "outputs": [],
   "source": [
    "df2 = df2[df2.y < 30]\n",
    "df2 = df2[df2.x >0.1]"
   ]
  },
  {
   "cell_type": "code",
   "execution_count": 12,
   "id": "5eb830d5",
   "metadata": {
    "execution": {
     "iopub.execute_input": "2022-08-17T20:11:33.225831Z",
     "iopub.status.busy": "2022-08-17T20:11:33.225405Z",
     "iopub.status.idle": "2022-08-17T20:11:33.249960Z",
     "shell.execute_reply": "2022-08-17T20:11:33.248746Z"
    },
    "papermill": {
     "duration": 0.045345,
     "end_time": "2022-08-17T20:11:33.252520",
     "exception": false,
     "start_time": "2022-08-17T20:11:33.207175",
     "status": "completed"
    },
    "tags": []
   },
   "outputs": [
    {
     "data": {
      "text/html": [
       "<div>\n",
       "<style scoped>\n",
       "    .dataframe tbody tr th:only-of-type {\n",
       "        vertical-align: middle;\n",
       "    }\n",
       "\n",
       "    .dataframe tbody tr th {\n",
       "        vertical-align: top;\n",
       "    }\n",
       "\n",
       "    .dataframe thead th {\n",
       "        text-align: right;\n",
       "    }\n",
       "</style>\n",
       "<table border=\"1\" class=\"dataframe\">\n",
       "  <thead>\n",
       "    <tr style=\"text-align: right;\">\n",
       "      <th></th>\n",
       "      <th>carat</th>\n",
       "      <th>cut</th>\n",
       "      <th>color</th>\n",
       "      <th>clarity</th>\n",
       "      <th>depth</th>\n",
       "      <th>table</th>\n",
       "      <th>price</th>\n",
       "      <th>x</th>\n",
       "      <th>y</th>\n",
       "      <th>z</th>\n",
       "    </tr>\n",
       "  </thead>\n",
       "  <tbody>\n",
       "    <tr>\n",
       "      <th>1</th>\n",
       "      <td>0.23</td>\n",
       "      <td>Ideal</td>\n",
       "      <td>E</td>\n",
       "      <td>SI2</td>\n",
       "      <td>61.5</td>\n",
       "      <td>55.0</td>\n",
       "      <td>326</td>\n",
       "      <td>3.95</td>\n",
       "      <td>3.98</td>\n",
       "      <td>2.43</td>\n",
       "    </tr>\n",
       "    <tr>\n",
       "      <th>2</th>\n",
       "      <td>0.21</td>\n",
       "      <td>Premium</td>\n",
       "      <td>E</td>\n",
       "      <td>SI1</td>\n",
       "      <td>59.8</td>\n",
       "      <td>61.0</td>\n",
       "      <td>326</td>\n",
       "      <td>3.89</td>\n",
       "      <td>3.84</td>\n",
       "      <td>2.31</td>\n",
       "    </tr>\n",
       "    <tr>\n",
       "      <th>3</th>\n",
       "      <td>0.23</td>\n",
       "      <td>Good</td>\n",
       "      <td>E</td>\n",
       "      <td>VS1</td>\n",
       "      <td>56.9</td>\n",
       "      <td>65.0</td>\n",
       "      <td>327</td>\n",
       "      <td>4.05</td>\n",
       "      <td>4.07</td>\n",
       "      <td>2.31</td>\n",
       "    </tr>\n",
       "    <tr>\n",
       "      <th>4</th>\n",
       "      <td>0.29</td>\n",
       "      <td>Premium</td>\n",
       "      <td>I</td>\n",
       "      <td>VS2</td>\n",
       "      <td>62.4</td>\n",
       "      <td>58.0</td>\n",
       "      <td>334</td>\n",
       "      <td>4.20</td>\n",
       "      <td>4.23</td>\n",
       "      <td>2.63</td>\n",
       "    </tr>\n",
       "    <tr>\n",
       "      <th>5</th>\n",
       "      <td>0.31</td>\n",
       "      <td>Good</td>\n",
       "      <td>J</td>\n",
       "      <td>SI2</td>\n",
       "      <td>63.3</td>\n",
       "      <td>58.0</td>\n",
       "      <td>335</td>\n",
       "      <td>4.34</td>\n",
       "      <td>4.35</td>\n",
       "      <td>2.75</td>\n",
       "    </tr>\n",
       "    <tr>\n",
       "      <th>...</th>\n",
       "      <td>...</td>\n",
       "      <td>...</td>\n",
       "      <td>...</td>\n",
       "      <td>...</td>\n",
       "      <td>...</td>\n",
       "      <td>...</td>\n",
       "      <td>...</td>\n",
       "      <td>...</td>\n",
       "      <td>...</td>\n",
       "      <td>...</td>\n",
       "    </tr>\n",
       "    <tr>\n",
       "      <th>53939</th>\n",
       "      <td>0.86</td>\n",
       "      <td>Premium</td>\n",
       "      <td>H</td>\n",
       "      <td>SI2</td>\n",
       "      <td>61.0</td>\n",
       "      <td>58.0</td>\n",
       "      <td>2757</td>\n",
       "      <td>6.15</td>\n",
       "      <td>6.12</td>\n",
       "      <td>3.74</td>\n",
       "    </tr>\n",
       "    <tr>\n",
       "      <th>53940</th>\n",
       "      <td>0.75</td>\n",
       "      <td>Ideal</td>\n",
       "      <td>D</td>\n",
       "      <td>SI2</td>\n",
       "      <td>62.2</td>\n",
       "      <td>55.0</td>\n",
       "      <td>2757</td>\n",
       "      <td>5.83</td>\n",
       "      <td>5.87</td>\n",
       "      <td>3.64</td>\n",
       "    </tr>\n",
       "    <tr>\n",
       "      <th>53941</th>\n",
       "      <td>0.71</td>\n",
       "      <td>Premium</td>\n",
       "      <td>E</td>\n",
       "      <td>SI1</td>\n",
       "      <td>60.5</td>\n",
       "      <td>55.0</td>\n",
       "      <td>2756</td>\n",
       "      <td>5.79</td>\n",
       "      <td>5.74</td>\n",
       "      <td>3.49</td>\n",
       "    </tr>\n",
       "    <tr>\n",
       "      <th>53942</th>\n",
       "      <td>0.71</td>\n",
       "      <td>Premium</td>\n",
       "      <td>F</td>\n",
       "      <td>SI1</td>\n",
       "      <td>59.8</td>\n",
       "      <td>62.0</td>\n",
       "      <td>2756</td>\n",
       "      <td>5.74</td>\n",
       "      <td>5.73</td>\n",
       "      <td>3.43</td>\n",
       "    </tr>\n",
       "    <tr>\n",
       "      <th>53943</th>\n",
       "      <td>0.70</td>\n",
       "      <td>Very Good</td>\n",
       "      <td>E</td>\n",
       "      <td>VS2</td>\n",
       "      <td>60.5</td>\n",
       "      <td>59.0</td>\n",
       "      <td>2757</td>\n",
       "      <td>5.71</td>\n",
       "      <td>5.76</td>\n",
       "      <td>3.47</td>\n",
       "    </tr>\n",
       "  </tbody>\n",
       "</table>\n",
       "<p>53932 rows × 10 columns</p>\n",
       "</div>"
      ],
      "text/plain": [
       "       carat        cut color clarity  depth  table  price     x     y     z\n",
       "1       0.23      Ideal     E     SI2   61.5   55.0    326  3.95  3.98  2.43\n",
       "2       0.21    Premium     E     SI1   59.8   61.0    326  3.89  3.84  2.31\n",
       "3       0.23       Good     E     VS1   56.9   65.0    327  4.05  4.07  2.31\n",
       "4       0.29    Premium     I     VS2   62.4   58.0    334  4.20  4.23  2.63\n",
       "5       0.31       Good     J     SI2   63.3   58.0    335  4.34  4.35  2.75\n",
       "...      ...        ...   ...     ...    ...    ...    ...   ...   ...   ...\n",
       "53939   0.86    Premium     H     SI2   61.0   58.0   2757  6.15  6.12  3.74\n",
       "53940   0.75      Ideal     D     SI2   62.2   55.0   2757  5.83  5.87  3.64\n",
       "53941   0.71    Premium     E     SI1   60.5   55.0   2756  5.79  5.74  3.49\n",
       "53942   0.71    Premium     F     SI1   59.8   62.0   2756  5.74  5.73  3.43\n",
       "53943   0.70  Very Good     E     VS2   60.5   59.0   2757  5.71  5.76  3.47\n",
       "\n",
       "[53932 rows x 10 columns]"
      ]
     },
     "execution_count": 12,
     "metadata": {},
     "output_type": "execute_result"
    }
   ],
   "source": [
    "df2\n"
   ]
  },
  {
   "cell_type": "code",
   "execution_count": 13,
   "id": "3174b555",
   "metadata": {
    "execution": {
     "iopub.execute_input": "2022-08-17T20:11:33.290246Z",
     "iopub.status.busy": "2022-08-17T20:11:33.289420Z",
     "iopub.status.idle": "2022-08-17T20:12:00.614935Z",
     "shell.execute_reply": "2022-08-17T20:12:00.613560Z"
    },
    "papermill": {
     "duration": 27.347282,
     "end_time": "2022-08-17T20:12:00.617732",
     "exception": false,
     "start_time": "2022-08-17T20:11:33.270450",
     "status": "completed"
    },
    "tags": []
   },
   "outputs": [
    {
     "data": {
      "image/png": "[encoded data removed]",
      "text/plain": [
       "<Figure size 1440x1080 with 7 Axes>"
      ]
     },
     "metadata": {
      "needs_background": "light"
     },
     "output_type": "display_data"
    }
   ],
   "source": [
    "plt.figure(figsize=(20,15))\n",
    "\n",
    "for index,col in enumerate(num_col):\n",
    "    plt.subplot(4,3,index+1)\n",
    "    sns.regplot(data=df2,x=col,y=df2.price)"
   ]
  },
  {
   "cell_type": "markdown",
   "id": "992dd5ca",
   "metadata": {
    "papermill": {
     "duration": 0.020307,
     "end_time": "2022-08-17T20:12:00.659029",
     "exception": false,
     "start_time": "2022-08-17T20:12:00.638722",
     "status": "completed"
    },
    "tags": []
   },
   "source": [
    "**Çıkarım :**\n",
    "- Regresyon grafiğimizden sonra aykırı değerleri düşürdük\n",
    " \n"
   ]
  },
  {
   "cell_type": "code",
   "execution_count": 14,
   "id": "592afa90",
   "metadata": {
    "execution": {
     "iopub.execute_input": "2022-08-17T20:12:00.702252Z",
     "iopub.status.busy": "2022-08-17T20:12:00.701443Z",
     "iopub.status.idle": "2022-08-17T20:12:01.464580Z",
     "shell.execute_reply": "2022-08-17T20:12:01.463359Z"
    },
    "papermill": {
     "duration": 0.787445,
     "end_time": "2022-08-17T20:12:01.466999",
     "exception": false,
     "start_time": "2022-08-17T20:12:00.679554",
     "status": "completed"
    },
    "tags": []
   },
   "outputs": [
    {
     "data": {
      "text/plain": [
       "<AxesSubplot:xlabel='price', ylabel='Count'>"
      ]
     },
     "execution_count": 14,
     "metadata": {},
     "output_type": "execute_result"
    },
    {
     "data": {
      "image/png": "[encoded data removed]",
      "text/plain": [
       "<Figure size 1008x504 with 1 Axes>"
      ]
     },
     "metadata": {
      "needs_background": "light"
     },
     "output_type": "display_data"
    }
   ],
   "source": [
    "plt.figure(figsize=(14,7))\n",
    "sns.histplot(data = df2,x=df2.price,palette = \"rocket\",kde=True)"
   ]
  },
  {
   "cell_type": "code",
   "execution_count": 15,
   "id": "76157021",
   "metadata": {
    "execution": {
     "iopub.execute_input": "2022-08-17T20:12:01.511646Z",
     "iopub.status.busy": "2022-08-17T20:12:01.511140Z",
     "iopub.status.idle": "2022-08-17T20:12:01.520765Z",
     "shell.execute_reply": "2022-08-17T20:12:01.519441Z"
    },
    "papermill": {
     "duration": 0.034456,
     "end_time": "2022-08-17T20:12:01.523182",
     "exception": false,
     "start_time": "2022-08-17T20:12:01.488726",
     "status": "completed"
    },
    "tags": []
   },
   "outputs": [],
   "source": [
    "df2.drop(\"depth\",axis = 1,inplace = True)"
   ]
  },
  {
   "cell_type": "markdown",
   "id": "e0a8fdb0",
   "metadata": {
    "papermill": {
     "duration": 0.020862,
     "end_time": "2022-08-17T20:12:01.565423",
     "exception": false,
     "start_time": "2022-08-17T20:12:01.544561",
     "status": "completed"
    },
    "tags": []
   },
   "source": [
    "**Doğrusal regresyona baktığımız için derinliği düşürdük.**"
   ]
  },
  {
   "cell_type": "code",
   "execution_count": 16,
   "id": "75847812",
   "metadata": {
    "execution": {
     "iopub.execute_input": "2022-08-17T20:12:01.609929Z",
     "iopub.status.busy": "2022-08-17T20:12:01.609449Z",
     "iopub.status.idle": "2022-08-17T20:12:01.635600Z",
     "shell.execute_reply": "2022-08-17T20:12:01.634368Z"
    },
    "papermill": {
     "duration": 0.051139,
     "end_time": "2022-08-17T20:12:01.638024",
     "exception": false,
     "start_time": "2022-08-17T20:12:01.586885",
     "status": "completed"
    },
    "tags": []
   },
   "outputs": [
    {
     "data": {
      "text/html": [
       "<div>\n",
       "<style scoped>\n",
       "    .dataframe tbody tr th:only-of-type {\n",
       "        vertical-align: middle;\n",
       "    }\n",
       "\n",
       "    .dataframe tbody tr th {\n",
       "        vertical-align: top;\n",
       "    }\n",
       "\n",
       "    .dataframe thead th {\n",
       "        text-align: right;\n",
       "    }\n",
       "</style>\n",
       "<table border=\"1\" class=\"dataframe\">\n",
       "  <thead>\n",
       "    <tr style=\"text-align: right;\">\n",
       "      <th></th>\n",
       "      <th>carat</th>\n",
       "      <th>cut</th>\n",
       "      <th>color</th>\n",
       "      <th>clarity</th>\n",
       "      <th>table</th>\n",
       "      <th>price</th>\n",
       "      <th>x</th>\n",
       "      <th>y</th>\n",
       "      <th>z</th>\n",
       "    </tr>\n",
       "  </thead>\n",
       "  <tbody>\n",
       "    <tr>\n",
       "      <th>1</th>\n",
       "      <td>0.23</td>\n",
       "      <td>Ideal</td>\n",
       "      <td>E</td>\n",
       "      <td>SI2</td>\n",
       "      <td>55.0</td>\n",
       "      <td>326</td>\n",
       "      <td>3.95</td>\n",
       "      <td>3.98</td>\n",
       "      <td>2.43</td>\n",
       "    </tr>\n",
       "    <tr>\n",
       "      <th>2</th>\n",
       "      <td>0.21</td>\n",
       "      <td>Premium</td>\n",
       "      <td>E</td>\n",
       "      <td>SI1</td>\n",
       "      <td>61.0</td>\n",
       "      <td>326</td>\n",
       "      <td>3.89</td>\n",
       "      <td>3.84</td>\n",
       "      <td>2.31</td>\n",
       "    </tr>\n",
       "    <tr>\n",
       "      <th>3</th>\n",
       "      <td>0.23</td>\n",
       "      <td>Good</td>\n",
       "      <td>E</td>\n",
       "      <td>VS1</td>\n",
       "      <td>65.0</td>\n",
       "      <td>327</td>\n",
       "      <td>4.05</td>\n",
       "      <td>4.07</td>\n",
       "      <td>2.31</td>\n",
       "    </tr>\n",
       "    <tr>\n",
       "      <th>4</th>\n",
       "      <td>0.29</td>\n",
       "      <td>Premium</td>\n",
       "      <td>I</td>\n",
       "      <td>VS2</td>\n",
       "      <td>58.0</td>\n",
       "      <td>334</td>\n",
       "      <td>4.20</td>\n",
       "      <td>4.23</td>\n",
       "      <td>2.63</td>\n",
       "    </tr>\n",
       "    <tr>\n",
       "      <th>5</th>\n",
       "      <td>0.31</td>\n",
       "      <td>Good</td>\n",
       "      <td>J</td>\n",
       "      <td>SI2</td>\n",
       "      <td>58.0</td>\n",
       "      <td>335</td>\n",
       "      <td>4.34</td>\n",
       "      <td>4.35</td>\n",
       "      <td>2.75</td>\n",
       "    </tr>\n",
       "    <tr>\n",
       "      <th>...</th>\n",
       "      <td>...</td>\n",
       "      <td>...</td>\n",
       "      <td>...</td>\n",
       "      <td>...</td>\n",
       "      <td>...</td>\n",
       "      <td>...</td>\n",
       "      <td>...</td>\n",
       "      <td>...</td>\n",
       "      <td>...</td>\n",
       "    </tr>\n",
       "    <tr>\n",
       "      <th>53939</th>\n",
       "      <td>0.86</td>\n",
       "      <td>Premium</td>\n",
       "      <td>H</td>\n",
       "      <td>SI2</td>\n",
       "      <td>58.0</td>\n",
       "      <td>2757</td>\n",
       "      <td>6.15</td>\n",
       "      <td>6.12</td>\n",
       "      <td>3.74</td>\n",
       "    </tr>\n",
       "    <tr>\n",
       "      <th>53940</th>\n",
       "      <td>0.75</td>\n",
       "      <td>Ideal</td>\n",
       "      <td>D</td>\n",
       "      <td>SI2</td>\n",
       "      <td>55.0</td>\n",
       "      <td>2757</td>\n",
       "      <td>5.83</td>\n",
       "      <td>5.87</td>\n",
       "      <td>3.64</td>\n",
       "    </tr>\n",
       "    <tr>\n",
       "      <th>53941</th>\n",
       "      <td>0.71</td>\n",
       "      <td>Premium</td>\n",
       "      <td>E</td>\n",
       "      <td>SI1</td>\n",
       "      <td>55.0</td>\n",
       "      <td>2756</td>\n",
       "      <td>5.79</td>\n",
       "      <td>5.74</td>\n",
       "      <td>3.49</td>\n",
       "    </tr>\n",
       "    <tr>\n",
       "      <th>53942</th>\n",
       "      <td>0.71</td>\n",
       "      <td>Premium</td>\n",
       "      <td>F</td>\n",
       "      <td>SI1</td>\n",
       "      <td>62.0</td>\n",
       "      <td>2756</td>\n",
       "      <td>5.74</td>\n",
       "      <td>5.73</td>\n",
       "      <td>3.43</td>\n",
       "    </tr>\n",
       "    <tr>\n",
       "      <th>53943</th>\n",
       "      <td>0.70</td>\n",
       "      <td>Very Good</td>\n",
       "      <td>E</td>\n",
       "      <td>VS2</td>\n",
       "      <td>59.0</td>\n",
       "      <td>2757</td>\n",
       "      <td>5.71</td>\n",
       "      <td>5.76</td>\n",
       "      <td>3.47</td>\n",
       "    </tr>\n",
       "  </tbody>\n",
       "</table>\n",
       "<p>53932 rows × 9 columns</p>\n",
       "</div>"
      ],
      "text/plain": [
       "       carat        cut color clarity  table  price     x     y     z\n",
       "1       0.23      Ideal     E     SI2   55.0    326  3.95  3.98  2.43\n",
       "2       0.21    Premium     E     SI1   61.0    326  3.89  3.84  2.31\n",
       "3       0.23       Good     E     VS1   65.0    327  4.05  4.07  2.31\n",
       "4       0.29    Premium     I     VS2   58.0    334  4.20  4.23  2.63\n",
       "5       0.31       Good     J     SI2   58.0    335  4.34  4.35  2.75\n",
       "...      ...        ...   ...     ...    ...    ...   ...   ...   ...\n",
       "53939   0.86    Premium     H     SI2   58.0   2757  6.15  6.12  3.74\n",
       "53940   0.75      Ideal     D     SI2   55.0   2757  5.83  5.87  3.64\n",
       "53941   0.71    Premium     E     SI1   55.0   2756  5.79  5.74  3.49\n",
       "53942   0.71    Premium     F     SI1   62.0   2756  5.74  5.73  3.43\n",
       "53943   0.70  Very Good     E     VS2   59.0   2757  5.71  5.76  3.47\n",
       "\n",
       "[53932 rows x 9 columns]"
      ]
     },
     "execution_count": 16,
     "metadata": {},
     "output_type": "execute_result"
    }
   ],
   "source": [
    "df2"
   ]
  },
  {
   "cell_type": "code",
   "execution_count": 17,
   "id": "487a6088",
   "metadata": {
    "execution": {
     "iopub.execute_input": "2022-08-17T20:12:01.683915Z",
     "iopub.status.busy": "2022-08-17T20:12:01.683461Z",
     "iopub.status.idle": "2022-08-17T20:12:01.695689Z",
     "shell.execute_reply": "2022-08-17T20:12:01.694530Z"
    },
    "papermill": {
     "duration": 0.038394,
     "end_time": "2022-08-17T20:12:01.698274",
     "exception": false,
     "start_time": "2022-08-17T20:12:01.659880",
     "status": "completed"
    },
    "tags": []
   },
   "outputs": [
    {
     "data": {
      "text/plain": [
       "array(['Ideal', 'Premium', 'Good', 'Very Good', 'Fair'], dtype=object)"
      ]
     },
     "execution_count": 17,
     "metadata": {},
     "output_type": "execute_result"
    }
   ],
   "source": [
    "df2.cut.unique()"
   ]
  },
  {
   "cell_type": "code",
   "execution_count": 18,
   "id": "61d84893",
   "metadata": {
    "execution": {
     "iopub.execute_input": "2022-08-17T20:12:01.746572Z",
     "iopub.status.busy": "2022-08-17T20:12:01.746148Z",
     "iopub.status.idle": "2022-08-17T20:12:01.757979Z",
     "shell.execute_reply": "2022-08-17T20:12:01.756418Z"
    },
    "papermill": {
     "duration": 0.039212,
     "end_time": "2022-08-17T20:12:01.760890",
     "exception": false,
     "start_time": "2022-08-17T20:12:01.721678",
     "status": "completed"
    },
    "tags": []
   },
   "outputs": [
    {
     "data": {
      "text/plain": [
       "array(['SI2', 'SI1', 'VS1', 'VS2', 'VVS2', 'VVS1', 'I1', 'IF'],\n",
       "      dtype=object)"
      ]
     },
     "execution_count": 18,
     "metadata": {},
     "output_type": "execute_result"
    }
   ],
   "source": [
    "df2.clarity.unique()"
   ]
  },
  {
   "cell_type": "code",
   "execution_count": 19,
   "id": "42faf341",
   "metadata": {
    "execution": {
     "iopub.execute_input": "2022-08-17T20:12:01.808517Z",
     "iopub.status.busy": "2022-08-17T20:12:01.808087Z",
     "iopub.status.idle": "2022-08-17T20:12:01.819638Z",
     "shell.execute_reply": "2022-08-17T20:12:01.818443Z"
    },
    "papermill": {
     "duration": 0.037647,
     "end_time": "2022-08-17T20:12:01.822096",
     "exception": false,
     "start_time": "2022-08-17T20:12:01.784449",
     "status": "completed"
    },
    "tags": []
   },
   "outputs": [
    {
     "data": {
      "text/plain": [
       "array(['E', 'I', 'J', 'H', 'F', 'G', 'D'], dtype=object)"
      ]
     },
     "execution_count": 19,
     "metadata": {},
     "output_type": "execute_result"
    }
   ],
   "source": [
    "df2.color.unique()"
   ]
  },
  {
   "cell_type": "markdown",
   "id": "e20f747d",
   "metadata": {
    "papermill": {
     "duration": 0.02142,
     "end_time": "2022-08-17T20:12:01.865588",
     "exception": false,
     "start_time": "2022-08-17T20:12:01.844168",
     "status": "completed"
    },
    "tags": []
   },
   "source": [
    "**Çıkarım :**\n",
    "- Bu sütunlara benzersiz değerler baktık. Bir çok benzersiz değer bizi bilinmeyen bir duruma getiriyor.\n",
    " \n"
   ]
  },
  {
   "cell_type": "markdown",
   "id": "5fb16013",
   "metadata": {
    "papermill": {
     "duration": 0.0214,
     "end_time": "2022-08-17T20:12:01.908787",
     "exception": false,
     "start_time": "2022-08-17T20:12:01.887387",
     "status": "completed"
    },
    "tags": []
   },
   "source": [
    "# Correlation\n"
   ]
  },
  {
   "cell_type": "code",
   "execution_count": 20,
   "id": "25349338",
   "metadata": {
    "execution": {
     "iopub.execute_input": "2022-08-17T20:12:01.954460Z",
     "iopub.status.busy": "2022-08-17T20:12:01.954031Z",
     "iopub.status.idle": "2022-08-17T20:12:01.967141Z",
     "shell.execute_reply": "2022-08-17T20:12:01.966004Z"
    },
    "papermill": {
     "duration": 0.039319,
     "end_time": "2022-08-17T20:12:01.969836",
     "exception": false,
     "start_time": "2022-08-17T20:12:01.930517",
     "status": "completed"
    },
    "tags": []
   },
   "outputs": [],
   "source": [
    "correlation = df2.corr()"
   ]
  },
  {
   "cell_type": "code",
   "execution_count": 21,
   "id": "b1c6dabc",
   "metadata": {
    "execution": {
     "iopub.execute_input": "2022-08-17T20:12:02.015732Z",
     "iopub.status.busy": "2022-08-17T20:12:02.014569Z",
     "iopub.status.idle": "2022-08-17T20:12:02.025305Z",
     "shell.execute_reply": "2022-08-17T20:12:02.024457Z"
    },
    "papermill": {
     "duration": 0.035896,
     "end_time": "2022-08-17T20:12:02.027460",
     "exception": false,
     "start_time": "2022-08-17T20:12:01.991564",
     "status": "completed"
    },
    "scrolled": true,
    "tags": []
   },
   "outputs": [
    {
     "data": {
      "text/html": [
       "<div>\n",
       "<style scoped>\n",
       "    .dataframe tbody tr th:only-of-type {\n",
       "        vertical-align: middle;\n",
       "    }\n",
       "\n",
       "    .dataframe tbody tr th {\n",
       "        vertical-align: top;\n",
       "    }\n",
       "\n",
       "    .dataframe thead th {\n",
       "        text-align: right;\n",
       "    }\n",
       "</style>\n",
       "<table border=\"1\" class=\"dataframe\">\n",
       "  <thead>\n",
       "    <tr style=\"text-align: right;\">\n",
       "      <th></th>\n",
       "      <th>price</th>\n",
       "    </tr>\n",
       "  </thead>\n",
       "  <tbody>\n",
       "    <tr>\n",
       "      <th>carat</th>\n",
       "      <td>0.921604</td>\n",
       "    </tr>\n",
       "    <tr>\n",
       "      <th>table</th>\n",
       "      <td>0.127145</td>\n",
       "    </tr>\n",
       "    <tr>\n",
       "      <th>price</th>\n",
       "      <td>1.000000</td>\n",
       "    </tr>\n",
       "    <tr>\n",
       "      <th>x</th>\n",
       "      <td>0.887214</td>\n",
       "    </tr>\n",
       "    <tr>\n",
       "      <th>y</th>\n",
       "      <td>0.888810</td>\n",
       "    </tr>\n",
       "    <tr>\n",
       "      <th>z</th>\n",
       "      <td>0.877666</td>\n",
       "    </tr>\n",
       "  </tbody>\n",
       "</table>\n",
       "</div>"
      ],
      "text/plain": [
       "          price\n",
       "carat  0.921604\n",
       "table  0.127145\n",
       "price  1.000000\n",
       "x      0.887214\n",
       "y      0.888810\n",
       "z      0.877666"
      ]
     },
     "execution_count": 21,
     "metadata": {},
     "output_type": "execute_result"
    }
   ],
   "source": [
    "correlation[[\"price\"]]"
   ]
  },
  {
   "cell_type": "markdown",
   "id": "feeb496c",
   "metadata": {
    "papermill": {
     "duration": 0.021558,
     "end_time": "2022-08-17T20:12:02.071192",
     "exception": false,
     "start_time": "2022-08-17T20:12:02.049634",
     "status": "completed"
    },
    "tags": []
   },
   "source": [
    "**Korelasyon, diğer sayısal değerler ile fiyat arasındaki doğrusal ilişkiyi değerlendirmemizi sağlar.**"
   ]
  },
  {
   "cell_type": "code",
   "execution_count": 22,
   "id": "a28edb61",
   "metadata": {
    "execution": {
     "iopub.execute_input": "2022-08-17T20:12:02.118381Z",
     "iopub.status.busy": "2022-08-17T20:12:02.117995Z",
     "iopub.status.idle": "2022-08-17T20:12:02.125438Z",
     "shell.execute_reply": "2022-08-17T20:12:02.124549Z"
    },
    "papermill": {
     "duration": 0.033467,
     "end_time": "2022-08-17T20:12:02.127541",
     "exception": false,
     "start_time": "2022-08-17T20:12:02.094074",
     "status": "completed"
    },
    "tags": []
   },
   "outputs": [],
   "source": [
    "X = df2.drop(\"price\",axis = 1)\n",
    "y = df2[\"price\"]"
   ]
  },
  {
   "cell_type": "code",
   "execution_count": 23,
   "id": "3d7656ae",
   "metadata": {
    "execution": {
     "iopub.execute_input": "2022-08-17T20:12:02.173141Z",
     "iopub.status.busy": "2022-08-17T20:12:02.172758Z",
     "iopub.status.idle": "2022-08-17T20:12:02.179154Z",
     "shell.execute_reply": "2022-08-17T20:12:02.178202Z"
    },
    "papermill": {
     "duration": 0.031907,
     "end_time": "2022-08-17T20:12:02.181346",
     "exception": false,
     "start_time": "2022-08-17T20:12:02.149439",
     "status": "completed"
    },
    "tags": []
   },
   "outputs": [],
   "source": [
    "numericCol = X.select_dtypes(include=np.number)"
   ]
  },
  {
   "cell_type": "code",
   "execution_count": 24,
   "id": "9450fec0",
   "metadata": {
    "execution": {
     "iopub.execute_input": "2022-08-17T20:12:02.228175Z",
     "iopub.status.busy": "2022-08-17T20:12:02.227084Z",
     "iopub.status.idle": "2022-08-17T20:12:02.232161Z",
     "shell.execute_reply": "2022-08-17T20:12:02.231050Z"
    },
    "papermill": {
     "duration": 0.030601,
     "end_time": "2022-08-17T20:12:02.234535",
     "exception": false,
     "start_time": "2022-08-17T20:12:02.203934",
     "status": "completed"
    },
    "tags": []
   },
   "outputs": [],
   "source": [
    "numericColumns = numericCol.columns"
   ]
  },
  {
   "cell_type": "code",
   "execution_count": 25,
   "id": "571ec594",
   "metadata": {
    "execution": {
     "iopub.execute_input": "2022-08-17T20:12:02.280857Z",
     "iopub.status.busy": "2022-08-17T20:12:02.280085Z",
     "iopub.status.idle": "2022-08-17T20:12:02.454215Z",
     "shell.execute_reply": "2022-08-17T20:12:02.452949Z"
    },
    "papermill": {
     "duration": 0.200245,
     "end_time": "2022-08-17T20:12:02.457183",
     "exception": false,
     "start_time": "2022-08-17T20:12:02.256938",
     "status": "completed"
    },
    "tags": []
   },
   "outputs": [],
   "source": [
    "from sklearn.preprocessing import StandardScaler"
   ]
  },
  {
   "cell_type": "code",
   "execution_count": 26,
   "id": "5aeeade3",
   "metadata": {
    "execution": {
     "iopub.execute_input": "2022-08-17T20:12:02.503740Z",
     "iopub.status.busy": "2022-08-17T20:12:02.502929Z",
     "iopub.status.idle": "2022-08-17T20:12:02.507522Z",
     "shell.execute_reply": "2022-08-17T20:12:02.506584Z"
    },
    "papermill": {
     "duration": 0.03055,
     "end_time": "2022-08-17T20:12:02.509923",
     "exception": false,
     "start_time": "2022-08-17T20:12:02.479373",
     "status": "completed"
    },
    "tags": []
   },
   "outputs": [],
   "source": [
    "scaler = StandardScaler()"
   ]
  },
  {
   "cell_type": "markdown",
   "id": "fbe307f4",
   "metadata": {
    "papermill": {
     "duration": 0.021501,
     "end_time": "2022-08-17T20:12:02.553707",
     "exception": false,
     "start_time": "2022-08-17T20:12:02.532206",
     "status": "completed"
    },
    "tags": []
   },
   "source": [
    "- Sayısal değerlerimiz benzer değil. Doğru hesaplamak için standart hale getirmemiz gerekiyor."
   ]
  },
  {
   "cell_type": "code",
   "execution_count": 27,
   "id": "c642d89f",
   "metadata": {
    "execution": {
     "iopub.execute_input": "2022-08-17T20:12:02.599805Z",
     "iopub.status.busy": "2022-08-17T20:12:02.599013Z",
     "iopub.status.idle": "2022-08-17T20:12:02.610053Z",
     "shell.execute_reply": "2022-08-17T20:12:02.609028Z"
    },
    "papermill": {
     "duration": 0.036806,
     "end_time": "2022-08-17T20:12:02.612578",
     "exception": false,
     "start_time": "2022-08-17T20:12:02.575772",
     "status": "completed"
    },
    "tags": []
   },
   "outputs": [],
   "source": [
    "numericCol = scaler.fit_transform(numericCol)"
   ]
  },
  {
   "cell_type": "code",
   "execution_count": 28,
   "id": "2bffd0ae",
   "metadata": {
    "execution": {
     "iopub.execute_input": "2022-08-17T20:12:02.657813Z",
     "iopub.status.busy": "2022-08-17T20:12:02.657371Z",
     "iopub.status.idle": "2022-08-17T20:12:02.663738Z",
     "shell.execute_reply": "2022-08-17T20:12:02.662831Z"
    },
    "papermill": {
     "duration": 0.031688,
     "end_time": "2022-08-17T20:12:02.665739",
     "exception": false,
     "start_time": "2022-08-17T20:12:02.634051",
     "status": "completed"
    },
    "tags": []
   },
   "outputs": [
    {
     "data": {
      "text/plain": [
       "array([[-1.19814794, -1.09985875, -1.591617  , -1.5779206 , -1.59851444],\n",
       "       [-1.24034645,  1.58577858, -1.64520721, -1.70388102, -1.77154234],\n",
       "       [-1.19814794,  3.37620347, -1.5023    , -1.49694605, -1.77154234],\n",
       "       ...,\n",
       "       [-0.18538371, -1.09985875,  0.05181585,  0.00558178, -0.07010129],\n",
       "       [-0.18538371,  2.0333848 ,  0.00715735, -0.0034154 , -0.15661524],\n",
       "       [-0.20648296,  0.69056614, -0.01963775,  0.02357612, -0.09893928]])"
      ]
     },
     "execution_count": 28,
     "metadata": {},
     "output_type": "execute_result"
    }
   ],
   "source": [
    "numericCol\n"
   ]
  },
  {
   "cell_type": "code",
   "execution_count": 29,
   "id": "72cbfecf",
   "metadata": {
    "execution": {
     "iopub.execute_input": "2022-08-17T20:12:02.712007Z",
     "iopub.status.busy": "2022-08-17T20:12:02.711220Z",
     "iopub.status.idle": "2022-08-17T20:12:02.716705Z",
     "shell.execute_reply": "2022-08-17T20:12:02.715819Z"
    },
    "papermill": {
     "duration": 0.031309,
     "end_time": "2022-08-17T20:12:02.719046",
     "exception": false,
     "start_time": "2022-08-17T20:12:02.687737",
     "status": "completed"
    },
    "tags": []
   },
   "outputs": [],
   "source": [
    "numericCol = pd.DataFrame(numericCol,columns=[numericColumns])"
   ]
  },
  {
   "cell_type": "code",
   "execution_count": 30,
   "id": "ba99f689",
   "metadata": {
    "execution": {
     "iopub.execute_input": "2022-08-17T20:12:02.765757Z",
     "iopub.status.busy": "2022-08-17T20:12:02.765074Z",
     "iopub.status.idle": "2022-08-17T20:12:02.781858Z",
     "shell.execute_reply": "2022-08-17T20:12:02.780778Z"
    },
    "papermill": {
     "duration": 0.0426,
     "end_time": "2022-08-17T20:12:02.784434",
     "exception": false,
     "start_time": "2022-08-17T20:12:02.741834",
     "status": "completed"
    },
    "tags": []
   },
   "outputs": [],
   "source": [
    "X[numericColumns] = numericCol"
   ]
  },
  {
   "cell_type": "code",
   "execution_count": 31,
   "id": "082d3d3c",
   "metadata": {
    "execution": {
     "iopub.execute_input": "2022-08-17T20:12:02.830195Z",
     "iopub.status.busy": "2022-08-17T20:12:02.829578Z",
     "iopub.status.idle": "2022-08-17T20:12:02.845522Z",
     "shell.execute_reply": "2022-08-17T20:12:02.844534Z"
    },
    "papermill": {
     "duration": 0.04148,
     "end_time": "2022-08-17T20:12:02.847749",
     "exception": false,
     "start_time": "2022-08-17T20:12:02.806269",
     "status": "completed"
    },
    "tags": []
   },
   "outputs": [
    {
     "data": {
      "text/plain": [
       "carat      12\n",
       "cut         0\n",
       "color       0\n",
       "clarity     0\n",
       "table      12\n",
       "x          12\n",
       "y          12\n",
       "z          12\n",
       "dtype: int64"
      ]
     },
     "execution_count": 31,
     "metadata": {},
     "output_type": "execute_result"
    }
   ],
   "source": [
    "X.isnull().sum()"
   ]
  },
  {
   "cell_type": "markdown",
   "id": "fbe66149",
   "metadata": {
    "papermill": {
     "duration": 0.021628,
     "end_time": "2022-08-17T20:12:03.002207",
     "exception": false,
     "start_time": "2022-08-17T20:12:02.980579",
     "status": "completed"
    },
    "tags": []
   },
   "source": [
    "- fit_transform'dan sonra bazı değerler kayboldu. Tahmin için bu değerleri doldurmamız gerekiyordu."
   ]
  },
  {
   "cell_type": "code",
   "execution_count": 32,
   "id": "e1413710",
   "metadata": {
    "execution": {
     "iopub.execute_input": "2022-08-17T20:12:02.893442Z",
     "iopub.status.busy": "2022-08-17T20:12:02.892816Z",
     "iopub.status.idle": "2022-08-17T20:12:02.898455Z",
     "shell.execute_reply": "2022-08-17T20:12:02.897639Z"
    },
    "papermill": {
     "duration": 0.031061,
     "end_time": "2022-08-17T20:12:02.900702",
     "exception": false,
     "start_time": "2022-08-17T20:12:02.869641",
     "status": "completed"
    },
    "tags": []
   },
   "outputs": [],
   "source": [
    "X.carat.fillna(df.carat.mean(),inplace=True)"
   ]
  },
  {
   "cell_type": "code",
   "execution_count": 33,
   "id": "37573b5c",
   "metadata": {
    "execution": {
     "iopub.execute_input": "2022-08-17T20:12:02.947088Z",
     "iopub.status.busy": "2022-08-17T20:12:02.946453Z",
     "iopub.status.idle": "2022-08-17T20:12:02.955607Z",
     "shell.execute_reply": "2022-08-17T20:12:02.954711Z"
    },
    "papermill": {
     "duration": 0.035249,
     "end_time": "2022-08-17T20:12:02.958213",
     "exception": false,
     "start_time": "2022-08-17T20:12:02.922964",
     "status": "completed"
    },
    "tags": []
   },
   "outputs": [],
   "source": [
    "X.table.fillna(df.table.mean(),inplace=True)\n",
    "X.x.fillna(df.x.mean(),inplace=True)\n",
    "X.y.fillna(df.y.mean(),inplace=True)\n",
    "X.z.fillna(df.z.mean(),inplace=True)\n"
   ]
  },
  {
   "cell_type": "code",
   "execution_count": 34,
   "id": "a5ef54b4",
   "metadata": {
    "execution": {
     "iopub.execute_input": "2022-08-17T20:12:03.047317Z",
     "iopub.status.busy": "2022-08-17T20:12:03.046938Z",
     "iopub.status.idle": "2022-08-17T20:12:03.067437Z",
     "shell.execute_reply": "2022-08-17T20:12:03.066181Z"
    },
    "papermill": {
     "duration": 0.046049,
     "end_time": "2022-08-17T20:12:03.069942",
     "exception": false,
     "start_time": "2022-08-17T20:12:03.023893",
     "status": "completed"
    },
    "tags": []
   },
   "outputs": [
    {
     "data": {
      "text/html": [
       "<div>\n",
       "<style scoped>\n",
       "    .dataframe tbody tr th:only-of-type {\n",
       "        vertical-align: middle;\n",
       "    }\n",
       "\n",
       "    .dataframe tbody tr th {\n",
       "        vertical-align: top;\n",
       "    }\n",
       "\n",
       "    .dataframe thead th {\n",
       "        text-align: right;\n",
       "    }\n",
       "</style>\n",
       "<table border=\"1\" class=\"dataframe\">\n",
       "  <thead>\n",
       "    <tr style=\"text-align: right;\">\n",
       "      <th></th>\n",
       "      <th>carat</th>\n",
       "      <th>cut</th>\n",
       "      <th>color</th>\n",
       "      <th>clarity</th>\n",
       "      <th>table</th>\n",
       "      <th>x</th>\n",
       "      <th>y</th>\n",
       "      <th>z</th>\n",
       "    </tr>\n",
       "  </thead>\n",
       "  <tbody>\n",
       "    <tr>\n",
       "      <th>1</th>\n",
       "      <td>-1.240346</td>\n",
       "      <td>Ideal</td>\n",
       "      <td>E</td>\n",
       "      <td>SI2</td>\n",
       "      <td>1.585779</td>\n",
       "      <td>-1.645207</td>\n",
       "      <td>-1.703881</td>\n",
       "      <td>-1.771542</td>\n",
       "    </tr>\n",
       "    <tr>\n",
       "      <th>2</th>\n",
       "      <td>-1.198148</td>\n",
       "      <td>Premium</td>\n",
       "      <td>E</td>\n",
       "      <td>SI1</td>\n",
       "      <td>3.376203</td>\n",
       "      <td>-1.502300</td>\n",
       "      <td>-1.496946</td>\n",
       "      <td>-1.771542</td>\n",
       "    </tr>\n",
       "    <tr>\n",
       "      <th>3</th>\n",
       "      <td>-1.071552</td>\n",
       "      <td>Good</td>\n",
       "      <td>E</td>\n",
       "      <td>VS1</td>\n",
       "      <td>0.242960</td>\n",
       "      <td>-1.368324</td>\n",
       "      <td>-1.352991</td>\n",
       "      <td>-1.310135</td>\n",
       "    </tr>\n",
       "    <tr>\n",
       "      <th>4</th>\n",
       "      <td>-1.029354</td>\n",
       "      <td>Premium</td>\n",
       "      <td>I</td>\n",
       "      <td>VS2</td>\n",
       "      <td>0.242960</td>\n",
       "      <td>-1.243281</td>\n",
       "      <td>-1.245025</td>\n",
       "      <td>-1.137107</td>\n",
       "    </tr>\n",
       "    <tr>\n",
       "      <th>5</th>\n",
       "      <td>-1.177049</td>\n",
       "      <td>Good</td>\n",
       "      <td>J</td>\n",
       "      <td>SI2</td>\n",
       "      <td>-0.204646</td>\n",
       "      <td>-1.600549</td>\n",
       "      <td>-1.595915</td>\n",
       "      <td>-1.526419</td>\n",
       "    </tr>\n",
       "    <tr>\n",
       "      <th>...</th>\n",
       "      <td>...</td>\n",
       "      <td>...</td>\n",
       "      <td>...</td>\n",
       "      <td>...</td>\n",
       "      <td>...</td>\n",
       "      <td>...</td>\n",
       "      <td>...</td>\n",
       "      <td>...</td>\n",
       "    </tr>\n",
       "    <tr>\n",
       "      <th>53939</th>\n",
       "      <td>0.797935</td>\n",
       "      <td>Premium</td>\n",
       "      <td>H</td>\n",
       "      <td>SI2</td>\n",
       "      <td>57.457251</td>\n",
       "      <td>5.731158</td>\n",
       "      <td>5.734526</td>\n",
       "      <td>3.538730</td>\n",
       "    </tr>\n",
       "    <tr>\n",
       "      <th>53940</th>\n",
       "      <td>0.797935</td>\n",
       "      <td>Ideal</td>\n",
       "      <td>D</td>\n",
       "      <td>SI2</td>\n",
       "      <td>57.457251</td>\n",
       "      <td>5.731158</td>\n",
       "      <td>5.734526</td>\n",
       "      <td>3.538730</td>\n",
       "    </tr>\n",
       "    <tr>\n",
       "      <th>53941</th>\n",
       "      <td>0.797935</td>\n",
       "      <td>Premium</td>\n",
       "      <td>E</td>\n",
       "      <td>SI1</td>\n",
       "      <td>57.457251</td>\n",
       "      <td>5.731158</td>\n",
       "      <td>5.734526</td>\n",
       "      <td>3.538730</td>\n",
       "    </tr>\n",
       "    <tr>\n",
       "      <th>53942</th>\n",
       "      <td>0.797935</td>\n",
       "      <td>Premium</td>\n",
       "      <td>F</td>\n",
       "      <td>SI1</td>\n",
       "      <td>57.457251</td>\n",
       "      <td>5.731158</td>\n",
       "      <td>5.734526</td>\n",
       "      <td>3.538730</td>\n",
       "    </tr>\n",
       "    <tr>\n",
       "      <th>53943</th>\n",
       "      <td>0.797935</td>\n",
       "      <td>Very Good</td>\n",
       "      <td>E</td>\n",
       "      <td>VS2</td>\n",
       "      <td>57.457251</td>\n",
       "      <td>5.731158</td>\n",
       "      <td>5.734526</td>\n",
       "      <td>3.538730</td>\n",
       "    </tr>\n",
       "  </tbody>\n",
       "</table>\n",
       "<p>53932 rows × 8 columns</p>\n",
       "</div>"
      ],
      "text/plain": [
       "          carat        cut color clarity      table         x         y  \\\n",
       "1     -1.240346      Ideal     E     SI2   1.585779 -1.645207 -1.703881   \n",
       "2     -1.198148    Premium     E     SI1   3.376203 -1.502300 -1.496946   \n",
       "3     -1.071552       Good     E     VS1   0.242960 -1.368324 -1.352991   \n",
       "4     -1.029354    Premium     I     VS2   0.242960 -1.243281 -1.245025   \n",
       "5     -1.177049       Good     J     SI2  -0.204646 -1.600549 -1.595915   \n",
       "...         ...        ...   ...     ...        ...       ...       ...   \n",
       "53939  0.797935    Premium     H     SI2  57.457251  5.731158  5.734526   \n",
       "53940  0.797935      Ideal     D     SI2  57.457251  5.731158  5.734526   \n",
       "53941  0.797935    Premium     E     SI1  57.457251  5.731158  5.734526   \n",
       "53942  0.797935    Premium     F     SI1  57.457251  5.731158  5.734526   \n",
       "53943  0.797935  Very Good     E     VS2  57.457251  5.731158  5.734526   \n",
       "\n",
       "              z  \n",
       "1     -1.771542  \n",
       "2     -1.771542  \n",
       "3     -1.310135  \n",
       "4     -1.137107  \n",
       "5     -1.526419  \n",
       "...         ...  \n",
       "53939  3.538730  \n",
       "53940  3.538730  \n",
       "53941  3.538730  \n",
       "53942  3.538730  \n",
       "53943  3.538730  \n",
       "\n",
       "[53932 rows x 8 columns]"
      ]
     },
     "execution_count": 34,
     "metadata": {},
     "output_type": "execute_result"
    }
   ],
   "source": [
    "X"
   ]
  },
  {
   "cell_type": "code",
   "execution_count": 35,
   "id": "8607ab7e",
   "metadata": {
    "execution": {
     "iopub.execute_input": "2022-08-17T20:12:03.116118Z",
     "iopub.status.busy": "2022-08-17T20:12:03.115311Z",
     "iopub.status.idle": "2022-08-17T20:12:03.124709Z",
     "shell.execute_reply": "2022-08-17T20:12:03.123565Z"
    },
    "papermill": {
     "duration": 0.034929,
     "end_time": "2022-08-17T20:12:03.126961",
     "exception": false,
     "start_time": "2022-08-17T20:12:03.092032",
     "status": "completed"
    },
    "tags": []
   },
   "outputs": [],
   "source": [
    "cat_col = X.select_dtypes(exclude=np.number).columns"
   ]
  },
  {
   "cell_type": "code",
   "execution_count": 36,
   "id": "79b07f1b",
   "metadata": {
    "execution": {
     "iopub.execute_input": "2022-08-17T20:12:03.173188Z",
     "iopub.status.busy": "2022-08-17T20:12:03.172530Z",
     "iopub.status.idle": "2022-08-17T20:12:03.179031Z",
     "shell.execute_reply": "2022-08-17T20:12:03.178171Z"
    },
    "papermill": {
     "duration": 0.03156,
     "end_time": "2022-08-17T20:12:03.181065",
     "exception": false,
     "start_time": "2022-08-17T20:12:03.149505",
     "status": "completed"
    },
    "tags": []
   },
   "outputs": [
    {
     "data": {
      "text/plain": [
       "Index(['cut', 'color', 'clarity'], dtype='object')"
      ]
     },
     "execution_count": 36,
     "metadata": {},
     "output_type": "execute_result"
    }
   ],
   "source": [
    "cat_col"
   ]
  },
  {
   "cell_type": "code",
   "execution_count": 37,
   "id": "55028a7c",
   "metadata": {
    "execution": {
     "iopub.execute_input": "2022-08-17T20:12:03.227275Z",
     "iopub.status.busy": "2022-08-17T20:12:03.226533Z",
     "iopub.status.idle": "2022-08-17T20:12:03.257227Z",
     "shell.execute_reply": "2022-08-17T20:12:03.256244Z"
    },
    "papermill": {
     "duration": 0.056516,
     "end_time": "2022-08-17T20:12:03.259637",
     "exception": false,
     "start_time": "2022-08-17T20:12:03.203121",
     "status": "completed"
    },
    "tags": []
   },
   "outputs": [],
   "source": [
    "X = pd.get_dummies(X,columns=cat_col)"
   ]
  },
  {
   "cell_type": "code",
   "execution_count": 38,
   "id": "b740d9e0",
   "metadata": {
    "execution": {
     "iopub.execute_input": "2022-08-17T20:12:03.306694Z",
     "iopub.status.busy": "2022-08-17T20:12:03.306075Z",
     "iopub.status.idle": "2022-08-17T20:12:03.333000Z",
     "shell.execute_reply": "2022-08-17T20:12:03.332093Z"
    },
    "papermill": {
     "duration": 0.05342,
     "end_time": "2022-08-17T20:12:03.335197",
     "exception": false,
     "start_time": "2022-08-17T20:12:03.281777",
     "status": "completed"
    },
    "tags": []
   },
   "outputs": [
    {
     "data": {
      "text/html": [
       "<div>\n",
       "<style scoped>\n",
       "    .dataframe tbody tr th:only-of-type {\n",
       "        vertical-align: middle;\n",
       "    }\n",
       "\n",
       "    .dataframe tbody tr th {\n",
       "        vertical-align: top;\n",
       "    }\n",
       "\n",
       "    .dataframe thead th {\n",
       "        text-align: right;\n",
       "    }\n",
       "</style>\n",
       "<table border=\"1\" class=\"dataframe\">\n",
       "  <thead>\n",
       "    <tr style=\"text-align: right;\">\n",
       "      <th></th>\n",
       "      <th>carat</th>\n",
       "      <th>table</th>\n",
       "      <th>x</th>\n",
       "      <th>y</th>\n",
       "      <th>z</th>\n",
       "      <th>cut_Fair</th>\n",
       "      <th>cut_Good</th>\n",
       "      <th>cut_Ideal</th>\n",
       "      <th>cut_Premium</th>\n",
       "      <th>cut_Very Good</th>\n",
       "      <th>...</th>\n",
       "      <th>color_I</th>\n",
       "      <th>color_J</th>\n",
       "      <th>clarity_I1</th>\n",
       "      <th>clarity_IF</th>\n",
       "      <th>clarity_SI1</th>\n",
       "      <th>clarity_SI2</th>\n",
       "      <th>clarity_VS1</th>\n",
       "      <th>clarity_VS2</th>\n",
       "      <th>clarity_VVS1</th>\n",
       "      <th>clarity_VVS2</th>\n",
       "    </tr>\n",
       "  </thead>\n",
       "  <tbody>\n",
       "    <tr>\n",
       "      <th>1</th>\n",
       "      <td>-1.240346</td>\n",
       "      <td>1.585779</td>\n",
       "      <td>-1.645207</td>\n",
       "      <td>-1.703881</td>\n",
       "      <td>-1.771542</td>\n",
       "      <td>0</td>\n",
       "      <td>0</td>\n",
       "      <td>1</td>\n",
       "      <td>0</td>\n",
       "      <td>0</td>\n",
       "      <td>...</td>\n",
       "      <td>0</td>\n",
       "      <td>0</td>\n",
       "      <td>0</td>\n",
       "      <td>0</td>\n",
       "      <td>0</td>\n",
       "      <td>1</td>\n",
       "      <td>0</td>\n",
       "      <td>0</td>\n",
       "      <td>0</td>\n",
       "      <td>0</td>\n",
       "    </tr>\n",
       "    <tr>\n",
       "      <th>2</th>\n",
       "      <td>-1.198148</td>\n",
       "      <td>3.376203</td>\n",
       "      <td>-1.502300</td>\n",
       "      <td>-1.496946</td>\n",
       "      <td>-1.771542</td>\n",
       "      <td>0</td>\n",
       "      <td>0</td>\n",
       "      <td>0</td>\n",
       "      <td>1</td>\n",
       "      <td>0</td>\n",
       "      <td>...</td>\n",
       "      <td>0</td>\n",
       "      <td>0</td>\n",
       "      <td>0</td>\n",
       "      <td>0</td>\n",
       "      <td>1</td>\n",
       "      <td>0</td>\n",
       "      <td>0</td>\n",
       "      <td>0</td>\n",
       "      <td>0</td>\n",
       "      <td>0</td>\n",
       "    </tr>\n",
       "    <tr>\n",
       "      <th>3</th>\n",
       "      <td>-1.071552</td>\n",
       "      <td>0.242960</td>\n",
       "      <td>-1.368324</td>\n",
       "      <td>-1.352991</td>\n",
       "      <td>-1.310135</td>\n",
       "      <td>0</td>\n",
       "      <td>1</td>\n",
       "      <td>0</td>\n",
       "      <td>0</td>\n",
       "      <td>0</td>\n",
       "      <td>...</td>\n",
       "      <td>0</td>\n",
       "      <td>0</td>\n",
       "      <td>0</td>\n",
       "      <td>0</td>\n",
       "      <td>0</td>\n",
       "      <td>0</td>\n",
       "      <td>1</td>\n",
       "      <td>0</td>\n",
       "      <td>0</td>\n",
       "      <td>0</td>\n",
       "    </tr>\n",
       "    <tr>\n",
       "      <th>4</th>\n",
       "      <td>-1.029354</td>\n",
       "      <td>0.242960</td>\n",
       "      <td>-1.243281</td>\n",
       "      <td>-1.245025</td>\n",
       "      <td>-1.137107</td>\n",
       "      <td>0</td>\n",
       "      <td>0</td>\n",
       "      <td>0</td>\n",
       "      <td>1</td>\n",
       "      <td>0</td>\n",
       "      <td>...</td>\n",
       "      <td>1</td>\n",
       "      <td>0</td>\n",
       "      <td>0</td>\n",
       "      <td>0</td>\n",
       "      <td>0</td>\n",
       "      <td>0</td>\n",
       "      <td>0</td>\n",
       "      <td>1</td>\n",
       "      <td>0</td>\n",
       "      <td>0</td>\n",
       "    </tr>\n",
       "    <tr>\n",
       "      <th>5</th>\n",
       "      <td>-1.177049</td>\n",
       "      <td>-0.204646</td>\n",
       "      <td>-1.600549</td>\n",
       "      <td>-1.595915</td>\n",
       "      <td>-1.526419</td>\n",
       "      <td>0</td>\n",
       "      <td>1</td>\n",
       "      <td>0</td>\n",
       "      <td>0</td>\n",
       "      <td>0</td>\n",
       "      <td>...</td>\n",
       "      <td>0</td>\n",
       "      <td>1</td>\n",
       "      <td>0</td>\n",
       "      <td>0</td>\n",
       "      <td>0</td>\n",
       "      <td>1</td>\n",
       "      <td>0</td>\n",
       "      <td>0</td>\n",
       "      <td>0</td>\n",
       "      <td>0</td>\n",
       "    </tr>\n",
       "    <tr>\n",
       "      <th>...</th>\n",
       "      <td>...</td>\n",
       "      <td>...</td>\n",
       "      <td>...</td>\n",
       "      <td>...</td>\n",
       "      <td>...</td>\n",
       "      <td>...</td>\n",
       "      <td>...</td>\n",
       "      <td>...</td>\n",
       "      <td>...</td>\n",
       "      <td>...</td>\n",
       "      <td>...</td>\n",
       "      <td>...</td>\n",
       "      <td>...</td>\n",
       "      <td>...</td>\n",
       "      <td>...</td>\n",
       "      <td>...</td>\n",
       "      <td>...</td>\n",
       "      <td>...</td>\n",
       "      <td>...</td>\n",
       "      <td>...</td>\n",
       "      <td>...</td>\n",
       "    </tr>\n",
       "    <tr>\n",
       "      <th>53939</th>\n",
       "      <td>0.797935</td>\n",
       "      <td>57.457251</td>\n",
       "      <td>5.731158</td>\n",
       "      <td>5.734526</td>\n",
       "      <td>3.538730</td>\n",
       "      <td>0</td>\n",
       "      <td>0</td>\n",
       "      <td>0</td>\n",
       "      <td>1</td>\n",
       "      <td>0</td>\n",
       "      <td>...</td>\n",
       "      <td>0</td>\n",
       "      <td>0</td>\n",
       "      <td>0</td>\n",
       "      <td>0</td>\n",
       "      <td>0</td>\n",
       "      <td>1</td>\n",
       "      <td>0</td>\n",
       "      <td>0</td>\n",
       "      <td>0</td>\n",
       "      <td>0</td>\n",
       "    </tr>\n",
       "    <tr>\n",
       "      <th>53940</th>\n",
       "      <td>0.797935</td>\n",
       "      <td>57.457251</td>\n",
       "      <td>5.731158</td>\n",
       "      <td>5.734526</td>\n",
       "      <td>3.538730</td>\n",
       "      <td>0</td>\n",
       "      <td>0</td>\n",
       "      <td>1</td>\n",
       "      <td>0</td>\n",
       "      <td>0</td>\n",
       "      <td>...</td>\n",
       "      <td>0</td>\n",
       "      <td>0</td>\n",
       "      <td>0</td>\n",
       "      <td>0</td>\n",
       "      <td>0</td>\n",
       "      <td>1</td>\n",
       "      <td>0</td>\n",
       "      <td>0</td>\n",
       "      <td>0</td>\n",
       "      <td>0</td>\n",
       "    </tr>\n",
       "    <tr>\n",
       "      <th>53941</th>\n",
       "      <td>0.797935</td>\n",
       "      <td>57.457251</td>\n",
       "      <td>5.731158</td>\n",
       "      <td>5.734526</td>\n",
       "      <td>3.538730</td>\n",
       "      <td>0</td>\n",
       "      <td>0</td>\n",
       "      <td>0</td>\n",
       "      <td>1</td>\n",
       "      <td>0</td>\n",
       "      <td>...</td>\n",
       "      <td>0</td>\n",
       "      <td>0</td>\n",
       "      <td>0</td>\n",
       "      <td>0</td>\n",
       "      <td>1</td>\n",
       "      <td>0</td>\n",
       "      <td>0</td>\n",
       "      <td>0</td>\n",
       "      <td>0</td>\n",
       "      <td>0</td>\n",
       "    </tr>\n",
       "    <tr>\n",
       "      <th>53942</th>\n",
       "      <td>0.797935</td>\n",
       "      <td>57.457251</td>\n",
       "      <td>5.731158</td>\n",
       "      <td>5.734526</td>\n",
       "      <td>3.538730</td>\n",
       "      <td>0</td>\n",
       "      <td>0</td>\n",
       "      <td>0</td>\n",
       "      <td>1</td>\n",
       "      <td>0</td>\n",
       "      <td>...</td>\n",
       "      <td>0</td>\n",
       "      <td>0</td>\n",
       "      <td>0</td>\n",
       "      <td>0</td>\n",
       "      <td>1</td>\n",
       "      <td>0</td>\n",
       "      <td>0</td>\n",
       "      <td>0</td>\n",
       "      <td>0</td>\n",
       "      <td>0</td>\n",
       "    </tr>\n",
       "    <tr>\n",
       "      <th>53943</th>\n",
       "      <td>0.797935</td>\n",
       "      <td>57.457251</td>\n",
       "      <td>5.731158</td>\n",
       "      <td>5.734526</td>\n",
       "      <td>3.538730</td>\n",
       "      <td>0</td>\n",
       "      <td>0</td>\n",
       "      <td>0</td>\n",
       "      <td>0</td>\n",
       "      <td>1</td>\n",
       "      <td>...</td>\n",
       "      <td>0</td>\n",
       "      <td>0</td>\n",
       "      <td>0</td>\n",
       "      <td>0</td>\n",
       "      <td>0</td>\n",
       "      <td>0</td>\n",
       "      <td>0</td>\n",
       "      <td>1</td>\n",
       "      <td>0</td>\n",
       "      <td>0</td>\n",
       "    </tr>\n",
       "  </tbody>\n",
       "</table>\n",
       "<p>53932 rows × 25 columns</p>\n",
       "</div>"
      ],
      "text/plain": [
       "          carat      table         x         y         z  cut_Fair  cut_Good  \\\n",
       "1     -1.240346   1.585779 -1.645207 -1.703881 -1.771542         0         0   \n",
       "2     -1.198148   3.376203 -1.502300 -1.496946 -1.771542         0         0   \n",
       "3     -1.071552   0.242960 -1.368324 -1.352991 -1.310135         0         1   \n",
       "4     -1.029354   0.242960 -1.243281 -1.245025 -1.137107         0         0   \n",
       "5     -1.177049  -0.204646 -1.600549 -1.595915 -1.526419         0         1   \n",
       "...         ...        ...       ...       ...       ...       ...       ...   \n",
       "53939  0.797935  57.457251  5.731158  5.734526  3.538730         0         0   \n",
       "53940  0.797935  57.457251  5.731158  5.734526  3.538730         0         0   \n",
       "53941  0.797935  57.457251  5.731158  5.734526  3.538730         0         0   \n",
       "53942  0.797935  57.457251  5.731158  5.734526  3.538730         0         0   \n",
       "53943  0.797935  57.457251  5.731158  5.734526  3.538730         0         0   \n",
       "\n",
       "       cut_Ideal  cut_Premium  cut_Very Good  ...  color_I  color_J  \\\n",
       "1              1            0              0  ...        0        0   \n",
       "2              0            1              0  ...        0        0   \n",
       "3              0            0              0  ...        0        0   \n",
       "4              0            1              0  ...        1        0   \n",
       "5              0            0              0  ...        0        1   \n",
       "...          ...          ...            ...  ...      ...      ...   \n",
       "53939          0            1              0  ...        0        0   \n",
       "53940          1            0              0  ...        0        0   \n",
       "53941          0            1              0  ...        0        0   \n",
       "53942          0            1              0  ...        0        0   \n",
       "53943          0            0              1  ...        0        0   \n",
       "\n",
       "       clarity_I1  clarity_IF  clarity_SI1  clarity_SI2  clarity_VS1  \\\n",
       "1               0           0            0            1            0   \n",
       "2               0           0            1            0            0   \n",
       "3               0           0            0            0            1   \n",
       "4               0           0            0            0            0   \n",
       "5               0           0            0            1            0   \n",
       "...           ...         ...          ...          ...          ...   \n",
       "53939           0           0            0            1            0   \n",
       "53940           0           0            0            1            0   \n",
       "53941           0           0            1            0            0   \n",
       "53942           0           0            1            0            0   \n",
       "53943           0           0            0            0            0   \n",
       "\n",
       "       clarity_VS2  clarity_VVS1  clarity_VVS2  \n",
       "1                0             0             0  \n",
       "2                0             0             0  \n",
       "3                0             0             0  \n",
       "4                1             0             0  \n",
       "5                0             0             0  \n",
       "...            ...           ...           ...  \n",
       "53939            0             0             0  \n",
       "53940            0             0             0  \n",
       "53941            0             0             0  \n",
       "53942            0             0             0  \n",
       "53943            1             0             0  \n",
       "\n",
       "[53932 rows x 25 columns]"
      ]
     },
     "execution_count": 38,
     "metadata": {},
     "output_type": "execute_result"
    }
   ],
   "source": [
    "X"
   ]
  },
  {
   "cell_type": "markdown",
   "id": "90417528",
   "metadata": {
    "papermill": {
     "duration": 0.022816,
     "end_time": "2022-08-17T20:12:03.480361",
     "exception": false,
     "start_time": "2022-08-17T20:12:03.457545",
     "status": "completed"
    },
    "tags": []
   },
   "source": [
    "# ML "
   ]
  },
  {
   "cell_type": "code",
   "execution_count": 40,
   "id": "21c6e675",
   "metadata": {
    "execution": {
     "iopub.execute_input": "2022-08-17T20:12:03.529019Z",
     "iopub.status.busy": "2022-08-17T20:12:03.528605Z",
     "iopub.status.idle": "2022-08-17T20:12:03.588654Z",
     "shell.execute_reply": "2022-08-17T20:12:03.587712Z"
    },
    "papermill": {
     "duration": 0.087363,
     "end_time": "2022-08-17T20:12:03.591222",
     "exception": false,
     "start_time": "2022-08-17T20:12:03.503859",
     "status": "completed"
    },
    "tags": []
   },
   "outputs": [],
   "source": [
    "from sklearn.model_selection import train_test_split"
   ]
  },
  {
   "cell_type": "code",
   "execution_count": 41,
   "id": "926f0331",
   "metadata": {
    "execution": {
     "iopub.execute_input": "2022-08-17T20:12:03.639214Z",
     "iopub.status.busy": "2022-08-17T20:12:03.638821Z",
     "iopub.status.idle": "2022-08-17T20:12:03.658832Z",
     "shell.execute_reply": "2022-08-17T20:12:03.657778Z"
    },
    "papermill": {
     "duration": 0.046929,
     "end_time": "2022-08-17T20:12:03.661439",
     "exception": false,
     "start_time": "2022-08-17T20:12:03.614510",
     "status": "completed"
    },
    "tags": []
   },
   "outputs": [],
   "source": [
    "X_train, X_test, y_train, y_test = train_test_split(X, y, test_size=0.3, random_state=41)"
   ]
  },
  {
   "cell_type": "code",
   "execution_count": 42,
   "id": "963e9844",
   "metadata": {
    "execution": {
     "iopub.execute_input": "2022-08-17T20:12:03.709869Z",
     "iopub.status.busy": "2022-08-17T20:12:03.709463Z",
     "iopub.status.idle": "2022-08-17T20:12:03.790571Z",
     "shell.execute_reply": "2022-08-17T20:12:03.789406Z"
    },
    "papermill": {
     "duration": 0.108353,
     "end_time": "2022-08-17T20:12:03.793381",
     "exception": false,
     "start_time": "2022-08-17T20:12:03.685028",
     "status": "completed"
    },
    "tags": []
   },
   "outputs": [],
   "source": [
    "from sklearn.linear_model import LinearRegression"
   ]
  },
  {
   "cell_type": "code",
   "execution_count": 43,
   "id": "fbf5db6d",
   "metadata": {
    "execution": {
     "iopub.execute_input": "2022-08-17T20:12:03.841843Z",
     "iopub.status.busy": "2022-08-17T20:12:03.840734Z",
     "iopub.status.idle": "2022-08-17T20:12:03.846063Z",
     "shell.execute_reply": "2022-08-17T20:12:03.845236Z"
    },
    "papermill": {
     "duration": 0.031632,
     "end_time": "2022-08-17T20:12:03.848273",
     "exception": false,
     "start_time": "2022-08-17T20:12:03.816641",
     "status": "completed"
    },
    "tags": []
   },
   "outputs": [],
   "source": [
    "lr = LinearRegression()"
   ]
  },
  {
   "cell_type": "code",
   "execution_count": 44,
   "id": "5f3daa9e",
   "metadata": {
    "execution": {
     "iopub.execute_input": "2022-08-17T20:12:03.897302Z",
     "iopub.status.busy": "2022-08-17T20:12:03.896565Z",
     "iopub.status.idle": "2022-08-17T20:12:03.952666Z",
     "shell.execute_reply": "2022-08-17T20:12:03.951416Z"
    },
    "papermill": {
     "duration": 0.084421,
     "end_time": "2022-08-17T20:12:03.955940",
     "exception": false,
     "start_time": "2022-08-17T20:12:03.871519",
     "status": "completed"
    },
    "tags": []
   },
   "outputs": [
    {
     "data": {
      "text/plain": [
       "LinearRegression()"
      ]
     },
     "execution_count": 44,
     "metadata": {},
     "output_type": "execute_result"
    }
   ],
   "source": [
    "lr.fit(X_train,y_train)"
   ]
  },
  {
   "cell_type": "code",
   "execution_count": 45,
   "id": "ad0e7364",
   "metadata": {
    "execution": {
     "iopub.execute_input": "2022-08-17T20:12:04.033948Z",
     "iopub.status.busy": "2022-08-17T20:12:04.033367Z",
     "iopub.status.idle": "2022-08-17T20:12:04.049474Z",
     "shell.execute_reply": "2022-08-17T20:12:04.048122Z"
    },
    "papermill": {
     "duration": 0.059825,
     "end_time": "2022-08-17T20:12:04.053715",
     "exception": false,
     "start_time": "2022-08-17T20:12:03.993890",
     "status": "completed"
    },
    "tags": []
   },
   "outputs": [],
   "source": [
    "y_pred = lr.predict(X_test)"
   ]
  },
  {
   "cell_type": "code",
   "execution_count": 46,
   "id": "8607078b",
   "metadata": {
    "execution": {
     "iopub.execute_input": "2022-08-17T20:12:04.133990Z",
     "iopub.status.busy": "2022-08-17T20:12:04.133397Z",
     "iopub.status.idle": "2022-08-17T20:12:04.141861Z",
     "shell.execute_reply": "2022-08-17T20:12:04.140512Z"
    },
    "papermill": {
     "duration": 0.051756,
     "end_time": "2022-08-17T20:12:04.145601",
     "exception": false,
     "start_time": "2022-08-17T20:12:04.093845",
     "status": "completed"
    },
    "tags": []
   },
   "outputs": [],
   "source": [
    "from sklearn.metrics import r2_score"
   ]
  },
  {
   "cell_type": "code",
   "execution_count": 47,
   "id": "224574d9",
   "metadata": {
    "execution": {
     "iopub.execute_input": "2022-08-17T20:12:04.200772Z",
     "iopub.status.busy": "2022-08-17T20:12:04.199864Z",
     "iopub.status.idle": "2022-08-17T20:12:04.207901Z",
     "shell.execute_reply": "2022-08-17T20:12:04.206849Z"
    },
    "papermill": {
     "duration": 0.03485,
     "end_time": "2022-08-17T20:12:04.210006",
     "exception": false,
     "start_time": "2022-08-17T20:12:04.175156",
     "status": "completed"
    },
    "tags": []
   },
   "outputs": [
    {
     "data": {
      "text/plain": [
       "0.8120219539648694"
      ]
     },
     "execution_count": 47,
     "metadata": {},
     "output_type": "execute_result"
    }
   ],
   "source": [
    "r2_score(y_test,y_pred)"
   ]
  },
  {
   "cell_type": "code",
   "execution_count": 48,
   "id": "1fc9d4c0",
   "metadata": {
    "execution": {
     "iopub.execute_input": "2022-08-17T20:12:04.259344Z",
     "iopub.status.busy": "2022-08-17T20:12:04.258191Z",
     "iopub.status.idle": "2022-08-17T20:12:04.265495Z",
     "shell.execute_reply": "2022-08-17T20:12:04.264660Z"
    },
    "papermill": {
     "duration": 0.034023,
     "end_time": "2022-08-17T20:12:04.267545",
     "exception": false,
     "start_time": "2022-08-17T20:12:04.233522",
     "status": "completed"
    },
    "tags": []
   },
   "outputs": [
    {
     "data": {
      "text/plain": [
       "81.20219539648694"
      ]
     },
     "execution_count": 48,
     "metadata": {},
     "output_type": "execute_result"
    }
   ],
   "source": [
    "r2_score(y_test,y_pred) * 100"
   ]
  },
  {
   "cell_type": "code",
   "execution_count": null,
   "id": "0eb7a87f",
   "metadata": {
    "papermill": {
     "duration": 0.023038,
     "end_time": "2022-08-17T20:12:04.313766",
     "exception": false,
     "start_time": "2022-08-17T20:12:04.290728",
     "status": "completed"
    },
    "tags": []
   },
   "outputs": [],
   "source": []
  }
 ],
 "metadata": {
  "kernelspec": {
   "display_name": "Python 3 (ipykernel)",
   "language": "python",
   "name": "python3"
  },
  "language_info": {
   "codemirror_mode": {
    "name": "ipython",
    "version": 3
   },
   "file_extension": ".py",
   "mimetype": "text/x-python",
   "name": "python",
   "nbconvert_exporter": "python",
   "pygments_lexer": "ipython3",
   "version": "3.9.7"
  },
  "papermill": {
   "default_parameters": {},
   "duration": 73.056018,
   "end_time": "2022-08-17T20:12:05.060151",
   "environment_variables": {},
   "exception": null,
   "input_path": "__notebook__.ipynb",
   "output_path": "__notebook__.ipynb",
   "parameters": {},
   "start_time": "2022-08-17T20:10:52.004133",
   "version": "2.3.4"
  }
 },
 "nbformat": 4,
 "nbformat_minor": 5
}
